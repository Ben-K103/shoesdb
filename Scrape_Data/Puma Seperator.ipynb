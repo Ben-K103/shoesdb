{
 "cells": [
  {
   "cell_type": "markdown",
   "id": "c07e2afb",
   "metadata": {},
   "source": [
    "This is a short code that seperates PUMA shoe-type from shoe name, put them back to correct columns."
   ]
  },
  {
   "cell_type": "code",
   "execution_count": 12,
   "id": "f19cbb1a",
   "metadata": {},
   "outputs": [
    {
     "name": "stdout",
     "output_type": "stream",
     "text": [
      "\n",
      "Updated DataFrame for PUMA shoes:\n",
      "       shoe_sku shoe_name                    shoe_brand shoe_type\n",
      "31  10K40358902       NaN  PUMA come from PUMA merchant       NaN\n",
      "32  10K40358901       NaN  PUMA come from PUMA merchant       NaN\n",
      "33  10K40128701       NaN  PUMA come from PUMA merchant       NaN\n",
      "47  10K40128702       NaN  PUMA come from PUMA merchant       NaN\n",
      "66  10K40238101       NaN  PUMA come from PUMA merchant       NaN\n",
      "83  10K40298204       NaN  PUMA come from PUMA merchant       NaN\n",
      "84  10K40125001       NaN  PUMA come from PUMA merchant       NaN\n",
      "85  10K40232101       NaN  PUMA come from PUMA merchant       NaN\n",
      "86  10K39646419       NaN  PUMA come from PUMA merchant       NaN\n",
      "87  10K39646420       NaN  PUMA come from PUMA merchant       NaN\n"
     ]
    }
   ],
   "source": [
    "import pandas as pd\n",
    "import time\n",
    "from datetime import datetime\n",
    "\n",
    "# Load the CSV file into a DataFrame\n",
    "df = pd.read_csv(r\"C:\\Users\\genhk\\OneDrive\\Desktop\\JDE12 Files\\Interim Project\\Stage 3\\Scrape_Data\\Catalog\\women\\20250415_catalog_women_shoes.csv\")\n",
    "\n",
    "# Step 1: Filter rows where shoe_brand is \"PUMA come from PUMA merchant\"\n",
    "puma_mask = df['shoe_brand'] == \"PUMA come from PUMA merchant\"\n",
    "\n",
    "# Step 2: Define a function to clean shoe_name and extract shoe_type\n",
    "def clean_puma_shoe(row):\n",
    "    if row['shoe_brand'] != \"PUMA come from PUMA merchant\":\n",
    "        return row['shoe_name'], row['shoe_type']\n",
    "    \n",
    "    shoe_name = row['shoe_name']\n",
    "    shoe_type = row['shoe_type']\n",
    "    \n",
    "    # Handle NaN or empty shoe_name\n",
    "    if pd.isna(shoe_name) or shoe_name.strip() == \"\":\n",
    "        return shoe_name, shoe_type\n",
    "    \n",
    "    # Comprehensive list of shoe types to extract from shoe_name\n",
    "    shoe_types = [\n",
    "        'Sneakers', 'Slides', 'Slip-On Shoes', 'Mule Winterized Slip-On Shoes',\n",
    "        'Puffy Women\\'s Slides', 'Fuzz Women\\'s Slides', 'Snaker Women\\'s Sneakers',\n",
    "        'Pearl Women\\'s Sneakers', 'Monogram Women\\'s Sneakers', 'Lite Women\\'s Sneakers',\n",
    "        'Deboss Women\\'s Sneakers', 'Butterfly Women\\'s Sneakers (Removable Badge)',\n",
    "        'Weathered Sneakers', 'Nylon Sneakers', 'Classic Sneakers', 'Gum Women\\'s Sneakers',\n",
    "        'OG Sneakers', 'Leather Sneakers', 'Moda Xtra Gum Women\\'s Sneakers',\n",
    "        'Wedge Women\\'s Sneakers', 'Merry X-mas Women\\'s Sneakers', 'Wedge Pop Women\\'s Sneakers',\n",
    "        'Wedge Pearl Women\\'s Sneakers', 'Wedge Monogram Women\\'s Sneakers'\n",
    "    ]\n",
    "    \n",
    "    # Extract the shoe type from the shoe_name\n",
    "    for s_type in shoe_types:\n",
    "        if shoe_name.endswith(s_type):\n",
    "            # Remove the shoe type from shoe_name\n",
    "            cleaned_name = shoe_name[:-(len(s_type))].strip()\n",
    "            # Update shoe_type to the extracted type (remove \"Women's\" if present)\n",
    "            shoe_type = s_type.replace(\"Women's \", \"\").replace(\" Women\", \"\")\n",
    "            # Remove \"Women's\" from the cleaned shoe_name\n",
    "            cleaned_name = cleaned_name.replace(\"Women's \", \"\").strip()\n",
    "            return cleaned_name, shoe_type\n",
    "    \n",
    "    # If no shoe type is found, return the original values (but still remove \"Women's\" from shoe_name)\n",
    "    cleaned_name = shoe_name.replace(\"Women's \", \"\").strip()\n",
    "    return cleaned_name, shoe_type\n",
    "\n",
    "# Step 3: Apply the cleaning function to the filtered rows\n",
    "df.loc[puma_mask, ['shoe_name', 'shoe_type']] = df[puma_mask].apply(clean_puma_shoe, axis=1, result_type='expand')\n",
    "\n",
    "# Step 4: Display the updated DataFrame for PUMA rows to verify\n",
    "print(\"\\nUpdated DataFrame for PUMA shoes:\")\n",
    "print(df[puma_mask][['shoe_sku', 'shoe_name', 'shoe_brand', 'shoe_type']].head(10))\n",
    "\n",
    "# Optionally, save the updated DataFrame to a new CSV file\n",
    "# df.to_csv(r\"C:\\Users\\genhk\\OneDrive\\Desktop\\JDE12 Files\\Interim Project\\Stage 3\\Scrape_Data\\Marathon\\Men\\20250415_catalog_women_shoes_cleaned.csv\", index=False)"
   ]
  },
  {
   "cell_type": "code",
   "execution_count": 7,
   "id": "716b8a3f",
   "metadata": {},
   "outputs": [],
   "source": [
    "df.to_csv(r\"C:\\Users\\genhk\\OneDrive\\Desktop\\JDE12 Files\\Interim Project\\Stage 3\\puma1.csv\", index=False)"
   ]
  },
  {
   "cell_type": "code",
   "execution_count": null,
   "id": "0cf11c10",
   "metadata": {},
   "outputs": [],
   "source": []
  }
 ],
 "metadata": {
  "kernelspec": {
   "display_name": "Python 3",
   "language": "python",
   "name": "python3"
  },
  "language_info": {
   "codemirror_mode": {
    "name": "ipython",
    "version": 3
   },
   "file_extension": ".py",
   "mimetype": "text/x-python",
   "name": "python",
   "nbconvert_exporter": "python",
   "pygments_lexer": "ipython3",
   "version": "3.9.13"
  }
 },
 "nbformat": 4,
 "nbformat_minor": 5
}
